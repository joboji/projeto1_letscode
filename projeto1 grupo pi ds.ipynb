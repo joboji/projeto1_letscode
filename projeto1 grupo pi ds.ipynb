{
 "cells": [
  {
   "cell_type": "code",
   "execution_count": 4,
   "metadata": {},
   "outputs": [
    {
     "name": "stdout",
     "output_type": "stream",
     "text": [
      "James;1146218927;jbutt@gmail.com\n",
      "\n",
      "josephine_darakjy@darakjy.org;Josephine;8102929388\n",
      "\n",
      "Art;art@venere.org;8566368749\n",
      "\n",
      "Lenna;lpaprocki@hotmail.com;9073854412\n",
      "\n",
      "Donette;5135701893;donette.foller@cox.net\n",
      "\n",
      "Simona;4195032484;simona@morasca.com\n",
      "\n",
      "7735736914;mitsue_tollner@yahoo.com;Mitsue;\n",
      "\n",
      "Leota;4087523500;leota@hotmail.com\n",
      "\n",
      "Sage;6054142147;sage_wieser@cox.net\n",
      "\n",
      "4106558723;Kris;kris@gmail.com\n",
      "\n",
      "minna_amigon@yahoo.com;Minna;2158741229\n",
      "\n",
      "Abel;6313353414;amaclead@gmail.com\n",
      "\n",
      "Kiley;3104985651;kiley.caldarera@aol.com\n",
      "\n",
      "Graciela;4407808425;gruta@cox.net\n",
      "\n",
      "Cammy;9565376195;calbares@gmail.com\n",
      "\n",
      "mattie@aol.com;6022774385;Mattie\n",
      "\n",
      "Meaghan;9313139635;meaghan@hotmail.com\n",
      "\n",
      "Gladys;4146619598;gladys.rim@rim.org\n",
      "\n",
      "Yuki;3132887937;yuki_whobrey@aol.com\n",
      "\n",
      "8158282147;fFletcher;letcher.flosi@yahoo.com\n",
      "\n",
      "bette_nicka@cox.net;Bette;6105453615\n",
      "\n",
      "Veronika;4085401785;vinouye@aol.com\n",
      "\n",
      "Willard;9723039197;willard@hotmail.com\n",
      "\n",
      "mroyster@royster.com;Maryann;5189667987\n",
      "\n",
      "Alisha;7326583154;alisha@slusarski.com\n"
     ]
    }
   ],
   "source": [
    "arquivo = open('contatos.csv','r')\n",
    "for linha in arquivo:\n",
    "    print(linha)"
   ]
  },
  {
   "cell_type": "code",
   "execution_count": 5,
   "metadata": {},
   "outputs": [
    {
     "name": "stdout",
     "output_type": "stream",
     "text": [
      "James;1146218927;jbutt@gmail.com\n",
      "josephine_darakjy@darakjy.org;Josephine;8102929388\n",
      "Art;art@venere.org;8566368749\n",
      "Lenna;lpaprocki@hotmail.com;9073854412\n",
      "Donette;5135701893;donette.foller@cox.net\n",
      "Simona;4195032484;simona@morasca.com\n",
      "7735736914;mitsue_tollner@yahoo.com;Mitsue;\n",
      "Leota;4087523500;leota@hotmail.com\n",
      "Sage;6054142147;sage_wieser@cox.net\n",
      "4106558723;Kris;kris@gmail.com\n",
      "minna_amigon@yahoo.com;Minna;2158741229\n",
      "Abel;6313353414;amaclead@gmail.com\n",
      "Kiley;3104985651;kiley.caldarera@aol.com\n",
      "Graciela;4407808425;gruta@cox.net\n",
      "Cammy;9565376195;calbares@gmail.com\n",
      "mattie@aol.com;6022774385;Mattie\n",
      "Meaghan;9313139635;meaghan@hotmail.com\n",
      "Gladys;4146619598;gladys.rim@rim.org\n",
      "Yuki;3132887937;yuki_whobrey@aol.com\n",
      "8158282147;fFletcher;letcher.flosi@yahoo.com\n",
      "bette_nicka@cox.net;Bette;6105453615\n",
      "Veronika;4085401785;vinouye@aol.com\n",
      "Willard;9723039197;willard@hotmail.com\n",
      "mroyster@royster.com;Maryann;5189667987\n",
      "Alisha;7326583154;alisha@slusarski.com\n"
     ]
    }
   ],
   "source": [
    "with open ('contatos.csv') as arq:\n",
    "    conteudo = arq.read()\n",
    "    print (conteudo)\n"
   ]
  },
  {
   "cell_type": "code",
   "execution_count": 7,
   "metadata": {},
   "outputs": [
    {
     "name": "stdout",
     "output_type": "stream",
     "text": [
      "['1146218927', 'Josephine', 'art@venere.org', 'lpaprocki@hotmail.com', '5135701893', '4195032484', 'mitsue_tollner@yahoo.com', '4087523500', '6054142147', 'Kris']\n"
     ]
    }
   ],
   "source": [
    "possibilidades = list()\n",
    "with open('contatos.csv', encoding = 'iso-8859-1') as arq:\n",
    "    for i in range(10):\n",
    "        linha = arq.readline()\n",
    "        linha = linha.split(';')\n",
    "        \n",
    "        if linha[1] not in possibilidades:\n",
    "            possibilidades.append(linha[1])\n",
    "print(possibilidades)"
   ]
  },
  {
   "cell_type": "code",
   "execution_count": 11,
   "metadata": {},
   "outputs": [
    {
     "name": "stdout",
     "output_type": "stream",
     "text": [
      "1 4106558723\n",
      "2 Kris\n",
      "3 kris@gmail.com\n",
      "\n"
     ]
    }
   ],
   "source": [
    "with open('contatos.csv', encoding = 'iso-8859-1') as arq:\n",
    "    for i in range(10):\n",
    "        linha = arq.readline()\n",
    "        linha = linha.split(';')\n",
    "    for i,l in enumerate(linha,1):\n",
    "        print (i,l)\n",
    "        \n"
   ]
  },
  {
   "cell_type": "code",
   "execution_count": null,
   "metadata": {},
   "outputs": [],
   "source": [
    "with open('contatos.csv', encoding = 'iso-8859-1') as arq:\n",
    "    for i in range(10):\n",
    "        linha = arq.readline()\n",
    "        linha = linha.split(';')\n",
    "    for i,l in enumerate(linha,1):\n",
    "        print (i,l)\n",
    "        \n"
   ]
  },
  {
   "cell_type": "code",
   "execution_count": 68,
   "metadata": {},
   "outputs": [
    {
     "name": "stdout",
     "output_type": "stream",
     "text": [
      "['James', '1146218927', 'jbutt@gmail.com']\n",
      "[['James', '1146218927', 'jbutt@gmail.com']]\n"
     ]
    }
   ],
   "source": [
    "lista_final = list()\n",
    "\n",
    "with open('contatos.csv') as arq:\n",
    "    for linha in arq.readlines():\n",
    "        dados = linha.split(';')\n",
    "        \n",
    "        for i in range(0, 3):\n",
    "            \n",
    "            if dado.isdigit():\n",
    "                telefone = dado.strip(\"\\n\")\n",
    "            elif '@' in dado:\n",
    "                email = dado.strip(\"\\n\")\n",
    "            else:\n",
    "                nome = dado.strip(\"\\n\")\n",
    "\n",
    "dados_organizados = [nome,telefone,email]\n",
    "print(dados_organizados)\n",
    "lista_final.append(dados_organizados)\n",
    "print(lista_final)"
   ]
  },
  {
   "cell_type": "code",
   "execution_count": 50,
   "metadata": {},
   "outputs": [
    {
     "data": {
      "text/plain": [
       "''"
      ]
     },
     "execution_count": 50,
     "metadata": {},
     "output_type": "execute_result"
    }
   ],
   "source": [
    "dado.strip('\\n')"
   ]
  },
  {
   "cell_type": "code",
   "execution_count": 72,
   "metadata": {},
   "outputs": [
    {
     "ename": "SyntaxError",
     "evalue": "invalid syntax (<ipython-input-72-9d12be180d07>, line 6)",
     "output_type": "error",
     "traceback": [
      "\u001b[1;36m  File \u001b[1;32m\"<ipython-input-72-9d12be180d07>\"\u001b[1;36m, line \u001b[1;32m6\u001b[0m\n\u001b[1;33m    for linha in arq.readlines()\u001b[0m\n\u001b[1;37m                                 ^\u001b[0m\n\u001b[1;31mSyntaxError\u001b[0m\u001b[1;31m:\u001b[0m invalid syntax\n"
     ]
    }
   ],
   "source": [
    "nome = list()\n",
    "telefone = list()\n",
    "email = list()\n",
    "\n",
    "arq = open('contatos.csv')\n",
    "for linha in arq.readlines() \n",
    "linha = linha.split(';')\n",
    "        \n",
    "        for dado in linha:\n",
    "            dado.strip('\\n')\n",
    "            if dado.isdigit():\n",
    "                telefone.append(dado)\n",
    "            elif '@' in dado:\n",
    "                email.append(dado)\n",
    "            else:\n",
    "                nome.append(dado)\n",
    "\n",
    "lista_final = [nome,telefone,email]\n",
    "print(lista_final)"
   ]
  },
  {
   "cell_type": "code",
   "execution_count": 82,
   "metadata": {},
   "outputs": [
    {
     "name": "stdout",
     "output_type": "stream",
     "text": [
      "[['James', '1146218927', 'jbutt@gmail.com'], ['Josephine', '8102929388', 'josephine_darakjy@darakjy.org'], ['Art', '8566368749', 'art@venere.org'], ['Lenna', '9073854412', 'lpaprocki@hotmail.com'], ['Donette', '5135701893', 'donette.foller@cox.net'], ['Simona', '4195032484', 'simona@morasca.com'], ['Mitsue', '7735736914', 'mitsue_tollner@yahoo.com'], ['Leota', '4087523500', 'leota@hotmail.com'], ['Sage', '6054142147', 'sage_wieser@cox.net'], ['Kris', '4106558723', 'kris@gmail.com'], ['Minna', '2158741229', 'minna_amigon@yahoo.com'], ['Abel', '6313353414', 'amaclead@gmail.com'], ['Kiley', '3104985651', 'kiley.caldarera@aol.com'], ['Graciela', '4407808425', 'gruta@cox.net'], ['Cammy', '9565376195', 'calbares@gmail.com'], ['Cammy', 'Mattie', 'mattie@aol.com'], ['Meaghan', '9313139635', 'meaghan@hotmail.com'], ['Gladys', '4146619598', 'gladys.rim@rim.org'], ['Yuki', '3132887937', 'yuki_whobrey@aol.com'], ['fFletcher', '8158282147', 'letcher.flosi@yahoo.com'], ['Bette', '6105453615', 'bette_nicka@cox.net'], ['Veronika', '4085401785', 'vinouye@aol.com'], ['Willard', '9723039197', 'willard@hotmail.com'], ['Maryann', '5189667987', 'mroyster@royster.com'], ['Alisha', '7326583154', 'alisha@slusarski.com']]\n"
     ]
    }
   ],
   "source": [
    "with open('contatos.csv') as arq:\n",
    "    lista = list()\n",
    "    for linha in arq:\n",
    "        dados = linha.split(';')\n",
    "        for i in range(0, 3):\n",
    "            if '@' in dados[i]:\n",
    "                email = dados[i].strip('\\n')\n",
    "            elif dados[i].isalpha() == True:\n",
    "                nome = dados[i].strip('\\n')\n",
    "            else:\n",
    "                telefone = dados[i].strip('\\n')\n",
    "        lista.append([nome, telefone, email])\n",
    "print(lista)\n",
    "\n"
   ]
  },
  {
   "cell_type": "code",
   "execution_count": null,
   "metadata": {},
   "outputs": [],
   "source": [
    "    for i in range(10):\n",
    "        linha = arq.readline()\n",
    "        linha = linha.split(';')\n",
    "    for i,l in enumerate(linha,1):"
   ]
  },
  {
   "cell_type": "code",
   "execution_count": 3,
   "metadata": {},
   "outputs": [
    {
     "data": {
      "text/plain": [
       "[['james', 'jbutt@gmail.com', '1146218927'],\n",
       " ['josephine', 'josephine_darakjy@darakjy.org', '8102929388'],\n",
       " ['art', 'art@venere.org', '8566368749'],\n",
       " ['lenna', 'lpaprocki@hotmail.com', '9073854412'],\n",
       " ['donette', 'donette.foller@cox.net', '5135701893'],\n",
       " ['simona', 'simona@morasca.com', '4195032484'],\n",
       " ['mitsue', 'mitsue_tollner@yahoo.com', '7735736914'],\n",
       " ['leota', 'leota@hotmail.com', '4087523500'],\n",
       " ['sage', 'sage_wieser@cox.net', '6054142147'],\n",
       " ['kris', 'kris@gmail.com', '4106558723'],\n",
       " ['minna', 'minna_amigon@yahoo.com', '2158741229'],\n",
       " ['abel', 'amaclead@gmail.com', '6313353414'],\n",
       " ['kiley', 'kiley.caldarera@aol.com', '3104985651'],\n",
       " ['graciela', 'gruta@cox.net', '4407808425'],\n",
       " ['cammy', 'calbares@gmail.com', '9565376195'],\n",
       " ['mattie', 'mattie@aol.com', '6022774385'],\n",
       " ['meaghan', 'meaghan@hotmail.com', '9313139635'],\n",
       " ['gladys', 'gladys.rim@rim.org', '4146619598'],\n",
       " ['yuki', 'yuki_whobrey@aol.com', '3132887937'],\n",
       " ['ffletcher', 'letcher.flosi@yahoo.com', '8158282147'],\n",
       " ['bette', 'bette_nicka@cox.net', '6105453615'],\n",
       " ['veronika', 'vinouye@aol.com', '4085401785'],\n",
       " ['willard', 'willard@hotmail.com', '9723039197'],\n",
       " ['maryann', 'mroyster@royster.com', '5189667987'],\n",
       " ['alisha', 'alisha@slusarski.com', '7326583154']]"
      ]
     },
     "execution_count": 3,
     "metadata": {},
     "output_type": "execute_result"
    }
   ],
   "source": [
    "nome_arquivo = \"contatos.csv\"\n",
    "\n",
    "with open(nome_arquivo, \"r\") as arquivo:\n",
    "\n",
    "    lista_organizada = []\n",
    "\n",
    "    for linha in arquivo.readlines():\n",
    "\n",
    "        new_linha = linha.split(\";\")\n",
    "\n",
    "        nome = ''\n",
    "        email = ''\n",
    "        telefone = ''\n",
    "\n",
    "        for item in new_linha:\n",
    "            \n",
    "            item = item.rstrip('\\n').lower()\n",
    "\n",
    "            if item.isalpha(): \n",
    "                nome = item\n",
    "\n",
    "            elif '@' in item: \n",
    "                email = item\n",
    "\n",
    "            elif item.isdigit(): \n",
    "                numero = item\n",
    "\n",
    "        linha_organizada = [nome, email, numero]\n",
    "\n",
    "        lista_organizada.append(linha_organizada)\n",
    "lista_organizada"
   ]
  },
  {
   "cell_type": "code",
   "execution_count": null,
   "metadata": {},
   "outputs": [],
   "source": [
    "import datetime\n"
   ]
  }
 ],
 "metadata": {
  "kernelspec": {
   "display_name": "Python 3",
   "language": "python",
   "name": "python3"
  },
  "language_info": {
   "codemirror_mode": {
    "name": "ipython",
    "version": 3
   },
   "file_extension": ".py",
   "mimetype": "text/x-python",
   "name": "python",
   "nbconvert_exporter": "python",
   "pygments_lexer": "ipython3",
   "version": "3.7.6"
  }
 },
 "nbformat": 4,
 "nbformat_minor": 4
}
